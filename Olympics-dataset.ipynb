{
 "cells": [
  {
   "cell_type": "markdown",
   "metadata": {},
   "source": [
    "1. Importing Libraries"
   ]
  },
  {
   "cell_type": "code",
   "execution_count": 1,
   "metadata": {},
   "outputs": [],
   "source": [
    "#Importing np,ply,pd,sns modules\n",
    "import numpy as np\n",
    "import matplotlib.pyplot as plt\n",
    "import pandas as pd \n",
    "import seaborn as sns"
   ]
  },
  {
   "cell_type": "markdown",
   "metadata": {},
   "source": [
    "2. Loading .csv files"
   ]
  },
  {
   "cell_type": "code",
   "execution_count": 2,
   "metadata": {},
   "outputs": [],
   "source": [
    "#Loading Athlete and Regions dataset\n",
    "athletes = pd.read_csv('athlete_events.csv')\n",
    "regions = pd.read_csv('noc_regions.csv')"
   ]
  },
  {
   "cell_type": "code",
   "execution_count": null,
   "metadata": {},
   "outputs": [],
   "source": [
    "#display the first 2 data with column names\n",
    "athletes.head(2)"
   ]
  },
  {
   "cell_type": "code",
   "execution_count": null,
   "metadata": {},
   "outputs": [],
   "source": [
    "#display the first 2 data with column names\n",
    "regions.head(2)"
   ]
  },
  {
   "cell_type": "markdown",
   "metadata": {},
   "source": [
    "3. Joining 2 tables(athletes and regions)"
   ]
  },
  {
   "cell_type": "code",
   "execution_count": null,
   "metadata": {},
   "outputs": [],
   "source": [
    "athletes_df = athletes.merge(regions, how= 'left', on='NOC')\n",
    "athletes_df.shape\n",
    "athletes_df"
   ]
  },
  {
   "cell_type": "code",
   "execution_count": null,
   "metadata": {},
   "outputs": [],
   "source": [
    "#Renaming the original data set's column names\n",
    "athletes_df.rename(columns={'region':'Region','notes':'Notes'}, inplace=True)\n",
    "athletes_df.head()"
   ]
  },
  {
   "cell_type": "code",
   "execution_count": null,
   "metadata": {},
   "outputs": [],
   "source": [
    "# '.info() ' function will give you the information of a dataset\n",
    "athletes_df.info()"
   ]
  },
  {
   "cell_type": "code",
   "execution_count": null,
   "metadata": {},
   "outputs": [],
   "source": [
    "# '.describe() ' function will give you the information of a dataset\n",
    "athletes_df.describe()"
   ]
  },
  {
   "cell_type": "markdown",
   "metadata": {},
   "source": [
    "4. Checking for NULL values"
   ]
  },
  {
   "cell_type": "code",
   "execution_count": null,
   "metadata": {},
   "outputs": [],
   "source": [
    "#Checking for null values\n",
    "nan_values = athletes_df.isna()\n",
    "nan_columns = nan_values.any()\n",
    "nan_columns "
   ]
  },
  {
   "cell_type": "code",
   "execution_count": null,
   "metadata": {},
   "outputs": [],
   "source": [
    "#to check the exact number of NAN- values in the dataset.\n",
    "athletes_df.isnull().sum()"
   ]
  },
  {
   "cell_type": "markdown",
   "metadata": {},
   "source": [
    "5. Team INDIA's data"
   ]
  },
  {
   "cell_type": "code",
   "execution_count": null,
   "metadata": {},
   "outputs": [],
   "source": [
    "#Athletes of Indian Team\n",
    "athletes_df.query('Team == \"India\"').head()"
   ]
  },
  {
   "cell_type": "code",
   "execution_count": null,
   "metadata": {},
   "outputs": [],
   "source": [
    "#Athletes of Japnese Team\n",
    "athletes_df.query('Team == \"Japan\"').head()"
   ]
  },
  {
   "cell_type": "markdown",
   "metadata": {},
   "source": [
    "6. Top 10 countries according to no.of players"
   ]
  },
  {
   "cell_type": "code",
   "execution_count": null,
   "metadata": {},
   "outputs": [],
   "source": [
    "#Top countries in the olympics.\n",
    "top_10_countries = athletes_df['Team'].value_counts().sort_values(ascending=False).head(10)\n",
    "top_10_countries"
   ]
  },
  {
   "cell_type": "code",
   "execution_count": null,
   "metadata": {},
   "outputs": [],
   "source": [
    "#Plotting the top10 countries.\n",
    "plt.figure(figsize=(12,6))\n",
    "plt.title('Overall participants of TOP-10 countries')\n",
    "sns.barplot(x=top_10_countries, y=top_10_countries, palette='Set2')"
   ]
  },
  {
   "cell_type": "code",
   "execution_count": null,
   "metadata": {},
   "outputs": [],
   "source": [
    "#Plotting the top10 countries ages.\n",
    "plt.figure(figsize=(12,6))\n",
    "plt.title(\"Age distribition Chart\")\n",
    "plt.xlabel(\"Age\")\n",
    "plt.ylabel(\"No.of Participants\")\n",
    "plt.hist(athletes_df.Age, bins = np.arange(10,80,2), color= 'orange', edgecolor = 'black')"
   ]
  },
  {
   "cell_type": "markdown",
   "metadata": {},
   "source": [
    "7. Winter Olympics Data"
   ]
  },
  {
   "cell_type": "code",
   "execution_count": null,
   "metadata": {},
   "outputs": [],
   "source": [
    "#Winter Olympics:\n",
    "\n",
    "winter_olympics = athletes_df[athletes_df.Season == 'Winter'].Sport.unique()\n",
    "winter_olympics"
   ]
  },
  {
   "cell_type": "markdown",
   "metadata": {},
   "source": [
    "8. summer Olympics Data"
   ]
  },
  {
   "cell_type": "code",
   "execution_count": null,
   "metadata": {},
   "outputs": [],
   "source": [
    "#Summer Olympics:\n",
    "\n",
    "summer_olympics = athletes_df[athletes_df[\"Season\"]==\"Summer\"].Sport.unique()\n",
    "summer_olympics"
   ]
  },
  {
   "cell_type": "markdown",
   "metadata": {},
   "source": [
    "9. Male and Female Count"
   ]
  },
  {
   "cell_type": "code",
   "execution_count": null,
   "metadata": {},
   "outputs": [],
   "source": [
    "#Male and Female participants in totoal.\n",
    "gender_counts = athletes_df['Sex'].value_counts()\n",
    "gender_counts"
   ]
  },
  {
   "cell_type": "code",
   "execution_count": null,
   "metadata": {},
   "outputs": [],
   "source": [
    "#Pie-plot for male and female athletes\n",
    "\n",
    "plt.figure(figsize=(12,6))\n",
    "plt.title('Gender Distribution')\n",
    "plt.pie(gender_counts, labels=gender_counts.index, autopct='%1.1f%%',startangle=150, shadow = True)"
   ]
  },
  {
   "cell_type": "markdown",
   "metadata": {},
   "source": [
    "10. Percentage of Total Participants v/s Medalists "
   ]
  },
  {
   "cell_type": "code",
   "execution_count": null,
   "metadata": {},
   "outputs": [],
   "source": [
    "#Percentage of participants vs Medals won\n",
    "medal_winners = athletes_df[\"Medal\"].count()\n",
    "total_participants = athletes_df[\"ID\"].nunique()\n",
    "x_y = (medal_winners/total_participants)*100\n",
    "x_y"
   ]
  },
  {
   "cell_type": "markdown",
   "metadata": {},
   "source": [
    "11. Total female participants"
   ]
  },
  {
   "cell_type": "code",
   "execution_count": null,
   "metadata": {},
   "outputs": [],
   "source": [
    "#total female participants in summer olympics \n",
    "fe_participants = athletes_df[(athletes_df.Sex == \"F\") & (athletes_df.Season == 'Summer')][['Sex','Year']]\n",
    "fe_participants = fe_participants.groupby('Year').count().reset_index()\n",
    "fe_participants.head(5)"
   ]
  },
  {
   "cell_type": "code",
   "execution_count": null,
   "metadata": {},
   "outputs": [],
   "source": [
    "#total female participants in winter olympics \n",
    "fe_participants = athletes_df[(athletes_df.Sex == \"F\") & (athletes_df.Season == 'Winter')][['Sex','Year']]\n",
    "fe_participants = fe_participants.groupby('Year').count().reset_index()\n",
    "fe_participants.tail(5)"
   ]
  },
  {
   "cell_type": "code",
   "execution_count": null,
   "metadata": {},
   "outputs": [],
   "source": [
    "#total no.of female athletes\n",
    "womenOylmpics = athletes_df[(athletes_df.Sex == \"F\") & (athletes_df.Season == 'Summer')]\n",
    "\n",
    "\n",
    "#Bar plot for the above dataFrame\n",
    "sns.set(style='darkgrid')\n",
    "plt.figure(figsize=(12,6))\n",
    "sns.countplot(x='Year',data=womenOylmpics, palette='Spectral')\n",
    "plt.title('Women Participation')"
   ]
  },
  {
   "cell_type": "code",
   "execution_count": null,
   "metadata": {},
   "outputs": [],
   "source": [
    "#how female athletes grew over the time\n",
    "\n",
    "part = womenOylmpics.groupby('Year')['Sex'].value_counts()\n",
    "plt.figure(figsize=(12,6))\n",
    "part.loc[:,'F'].plot()\n",
    "plt.title(\"Plot of female athletes over the time\")"
   ]
  },
  {
   "cell_type": "markdown",
   "metadata": {},
   "source": [
    "12. All GOLD MEDAL winners"
   ]
  },
  {
   "cell_type": "code",
   "execution_count": null,
   "metadata": {},
   "outputs": [],
   "source": [
    "#Gold Medal Winners:\n",
    "gold_Medal = athletes_df[athletes_df['Medal']=='Gold']\n",
    "gold_Medal.head()"
   ]
  },
  {
   "cell_type": "code",
   "execution_count": null,
   "metadata": {},
   "outputs": [],
   "source": [
    "#taking values that are different than NaN:\n",
    "\n",
    "goldMedals = gold_Medal[np.isfinite(gold_Medal['Age'])]\n",
    "goldMedals"
   ]
  },
  {
   "cell_type": "code",
   "execution_count": null,
   "metadata": {},
   "outputs": [],
   "source": [
    "#Gold beyond 60\n",
    "gold_60 = goldMedals['ID'][goldMedals['Age']>60].count()\n",
    "gold_60"
   ]
  },
  {
   "cell_type": "code",
   "execution_count": null,
   "metadata": {},
   "outputs": [],
   "source": [
    "#for which event gold_60?\n",
    "events_60 = goldMedals['Sport'][goldMedals['Age']>60]\n",
    "events_60"
   ]
  },
  {
   "cell_type": "code",
   "execution_count": null,
   "metadata": {},
   "outputs": [],
   "source": [
    "#for which event gold_60? and the chart.\n",
    "plt.figure(figsize=(10,5))\n",
    "plt.tight_layout()\n",
    "sns.countplot(events_60)\n",
    "plt.title(\"GoldMedals for age over 60\")"
   ]
  },
  {
   "cell_type": "markdown",
   "metadata": {},
   "source": [
    "12. Country wise medal tally"
   ]
  },
  {
   "cell_type": "code",
   "execution_count": null,
   "metadata": {},
   "outputs": [],
   "source": [
    "#gold medals for each country\n",
    "\n",
    "gold_by_country = goldMedals['Region'].value_counts().reset_index(name=\"Medal\").head(6)\n",
    "gold_by_country"
   ]
  },
  {
   "cell_type": "code",
   "execution_count": null,
   "metadata": {},
   "outputs": [],
   "source": [
    "#Bar plot to show top 6 countries with gold\n",
    "graph = sns.catplot(x='index',y='Medal', data =gold_by_country, height=5, kind='bar', palette='rocket')\n",
    "graph.despine(left=True)\n",
    "graph.set_xlabels(\"Top 5\")\n",
    "graph.set_ylabels(\"No.of Countries\")\n",
    "plt.title(\"Gold Per Country\")\n"
   ]
  },
  {
   "cell_type": "markdown",
   "metadata": {},
   "source": [
    "13. About Rio olympics"
   ]
  },
  {
   "cell_type": "code",
   "execution_count": null,
   "metadata": {},
   "outputs": [],
   "source": [
    "#Data about Rio-Olympics\n",
    "\n",
    "max_year = athletes_df['Year'].max()\n",
    "max_year    "
   ]
  },
  {
   "cell_type": "code",
   "execution_count": null,
   "metadata": {},
   "outputs": [],
   "source": [
    "#Medals won by countries in 2016(Rio)\n",
    "team_names = athletes_df[(athletes_df['Year']==2016) & (athletes_df['Medal']=='Gold')].Team\n",
    "team_names = team_names.value_counts().head(15)\n",
    "team_names \n"
   ]
  },
  {
   "cell_type": "code",
   "execution_count": null,
   "metadata": {},
   "outputs": [],
   "source": [
    "#Plotting the above results\n",
    "plt.figure(figsize=(18,8))\n",
    "sns.barplot(x=team_names,y=team_names.index)\n",
    "plt.ylabel(None)\n",
    "plt.title(\"Rio-2016 Medal Tally of Top-15 Countries\")"
   ]
  },
  {
   "cell_type": "code",
   "execution_count": null,
   "metadata": {},
   "outputs": [],
   "source": [
    "not_null_medals = athletes_df[(athletes_df['Height'].notnull()) & (athletes_df['Weight'].notnull())]\n",
    "\n",
    "plt.figure(figsize=(18,6))\n",
    "axis = sns.scatterplot(x='Height',y='Weight',data=not_null_medals, hue='Sex')\n",
    "plt.title('Height vs Weight of Participants.')"
   ]
  }
 ],
 "metadata": {
  "interpreter": {
   "hash": "e467ab20363496396422e73c9b0684ba03a79ac84f996e73797dc0f458ff5f54"
  },
  "kernelspec": {
   "display_name": "Python 3.9.6 64-bit",
   "language": "python",
   "name": "python3"
  },
  "language_info": {
   "codemirror_mode": {
    "name": "ipython",
    "version": 3
   },
   "file_extension": ".py",
   "mimetype": "text/x-python",
   "name": "python",
   "nbconvert_exporter": "python",
   "pygments_lexer": "ipython3",
   "version": "3.9.6"
  },
  "orig_nbformat": 4
 },
 "nbformat": 4,
 "nbformat_minor": 2
}
